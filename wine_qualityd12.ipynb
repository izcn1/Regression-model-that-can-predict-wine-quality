{
  "nbformat": 4,
  "nbformat_minor": 0,
  "metadata": {
    "colab": {
      "provenance": []
    },
    "kernelspec": {
      "name": "python3",
      "display_name": "Python 3"
    },
    "language_info": {
      "name": "python"
    }
  },
  "cells": [
    {
      "cell_type": "code",
      "execution_count": null,
      "metadata": {
        "id": "387Vp1VP2Pk5"
      },
      "outputs": [],
      "source": [
        "import pandas as pd\n",
        "import numpy as np\n",
        "import matplotlib.pyplot as plt\n",
        "import tensorflow as tf\n",
        "import seaborn as sbn"
      ]
    },
    {
      "cell_type": "code",
      "source": [
        "dataFrame = pd.read_csv(\"winequality-red.csv\")"
      ],
      "metadata": {
        "id": "OL1j67I22dj3"
      },
      "execution_count": null,
      "outputs": []
    },
    {
      "cell_type": "code",
      "source": [
        "dataFrame.head()"
      ],
      "metadata": {
        "colab": {
          "base_uri": "https://localhost:8080/",
          "height": 223
        },
        "id": "kJelKkxw2dk-",
        "outputId": "2fcb88ce-da05-46d2-fcb2-f91d0613fca7"
      },
      "execution_count": null,
      "outputs": [
        {
          "output_type": "execute_result",
          "data": {
            "text/plain": [
              "   fixed acidity  volatile acidity  citric acid  residual sugar  chlorides  \\\n",
              "0            7.4              0.70         0.00             1.9      0.076   \n",
              "1            7.8              0.88         0.00             2.6      0.098   \n",
              "2            7.8              0.76         0.04             2.3      0.092   \n",
              "3           11.2              0.28         0.56             1.9      0.075   \n",
              "4            7.4              0.70         0.00             1.9      0.076   \n",
              "\n",
              "   free sulfur dioxide  total sulfur dioxide  density    pH  sulphates  \\\n",
              "0                 11.0                  34.0   0.9978  3.51       0.56   \n",
              "1                 25.0                  67.0   0.9968  3.20       0.68   \n",
              "2                 15.0                  54.0   0.9970  3.26       0.65   \n",
              "3                 17.0                  60.0   0.9980  3.16       0.58   \n",
              "4                 11.0                  34.0   0.9978  3.51       0.56   \n",
              "\n",
              "   alcohol  quality  \n",
              "0      9.4        5  \n",
              "1      9.8        5  \n",
              "2      9.8        5  \n",
              "3      9.8        6  \n",
              "4      9.4        5  "
            ],
            "text/html": [
              "\n",
              "  <div id=\"df-e1cb93c9-fec9-4d8d-8459-77694bf83ee1\" class=\"colab-df-container\">\n",
              "    <div>\n",
              "<style scoped>\n",
              "    .dataframe tbody tr th:only-of-type {\n",
              "        vertical-align: middle;\n",
              "    }\n",
              "\n",
              "    .dataframe tbody tr th {\n",
              "        vertical-align: top;\n",
              "    }\n",
              "\n",
              "    .dataframe thead th {\n",
              "        text-align: right;\n",
              "    }\n",
              "</style>\n",
              "<table border=\"1\" class=\"dataframe\">\n",
              "  <thead>\n",
              "    <tr style=\"text-align: right;\">\n",
              "      <th></th>\n",
              "      <th>fixed acidity</th>\n",
              "      <th>volatile acidity</th>\n",
              "      <th>citric acid</th>\n",
              "      <th>residual sugar</th>\n",
              "      <th>chlorides</th>\n",
              "      <th>free sulfur dioxide</th>\n",
              "      <th>total sulfur dioxide</th>\n",
              "      <th>density</th>\n",
              "      <th>pH</th>\n",
              "      <th>sulphates</th>\n",
              "      <th>alcohol</th>\n",
              "      <th>quality</th>\n",
              "    </tr>\n",
              "  </thead>\n",
              "  <tbody>\n",
              "    <tr>\n",
              "      <th>0</th>\n",
              "      <td>7.4</td>\n",
              "      <td>0.70</td>\n",
              "      <td>0.00</td>\n",
              "      <td>1.9</td>\n",
              "      <td>0.076</td>\n",
              "      <td>11.0</td>\n",
              "      <td>34.0</td>\n",
              "      <td>0.9978</td>\n",
              "      <td>3.51</td>\n",
              "      <td>0.56</td>\n",
              "      <td>9.4</td>\n",
              "      <td>5</td>\n",
              "    </tr>\n",
              "    <tr>\n",
              "      <th>1</th>\n",
              "      <td>7.8</td>\n",
              "      <td>0.88</td>\n",
              "      <td>0.00</td>\n",
              "      <td>2.6</td>\n",
              "      <td>0.098</td>\n",
              "      <td>25.0</td>\n",
              "      <td>67.0</td>\n",
              "      <td>0.9968</td>\n",
              "      <td>3.20</td>\n",
              "      <td>0.68</td>\n",
              "      <td>9.8</td>\n",
              "      <td>5</td>\n",
              "    </tr>\n",
              "    <tr>\n",
              "      <th>2</th>\n",
              "      <td>7.8</td>\n",
              "      <td>0.76</td>\n",
              "      <td>0.04</td>\n",
              "      <td>2.3</td>\n",
              "      <td>0.092</td>\n",
              "      <td>15.0</td>\n",
              "      <td>54.0</td>\n",
              "      <td>0.9970</td>\n",
              "      <td>3.26</td>\n",
              "      <td>0.65</td>\n",
              "      <td>9.8</td>\n",
              "      <td>5</td>\n",
              "    </tr>\n",
              "    <tr>\n",
              "      <th>3</th>\n",
              "      <td>11.2</td>\n",
              "      <td>0.28</td>\n",
              "      <td>0.56</td>\n",
              "      <td>1.9</td>\n",
              "      <td>0.075</td>\n",
              "      <td>17.0</td>\n",
              "      <td>60.0</td>\n",
              "      <td>0.9980</td>\n",
              "      <td>3.16</td>\n",
              "      <td>0.58</td>\n",
              "      <td>9.8</td>\n",
              "      <td>6</td>\n",
              "    </tr>\n",
              "    <tr>\n",
              "      <th>4</th>\n",
              "      <td>7.4</td>\n",
              "      <td>0.70</td>\n",
              "      <td>0.00</td>\n",
              "      <td>1.9</td>\n",
              "      <td>0.076</td>\n",
              "      <td>11.0</td>\n",
              "      <td>34.0</td>\n",
              "      <td>0.9978</td>\n",
              "      <td>3.51</td>\n",
              "      <td>0.56</td>\n",
              "      <td>9.4</td>\n",
              "      <td>5</td>\n",
              "    </tr>\n",
              "  </tbody>\n",
              "</table>\n",
              "</div>\n",
              "    <div class=\"colab-df-buttons\">\n",
              "\n",
              "  <div class=\"colab-df-container\">\n",
              "    <button class=\"colab-df-convert\" onclick=\"convertToInteractive('df-e1cb93c9-fec9-4d8d-8459-77694bf83ee1')\"\n",
              "            title=\"Convert this dataframe to an interactive table.\"\n",
              "            style=\"display:none;\">\n",
              "\n",
              "  <svg xmlns=\"http://www.w3.org/2000/svg\" height=\"24px\" viewBox=\"0 -960 960 960\">\n",
              "    <path d=\"M120-120v-720h720v720H120Zm60-500h600v-160H180v160Zm220 220h160v-160H400v160Zm0 220h160v-160H400v160ZM180-400h160v-160H180v160Zm440 0h160v-160H620v160ZM180-180h160v-160H180v160Zm440 0h160v-160H620v160Z\"/>\n",
              "  </svg>\n",
              "    </button>\n",
              "\n",
              "  <style>\n",
              "    .colab-df-container {\n",
              "      display:flex;\n",
              "      gap: 12px;\n",
              "    }\n",
              "\n",
              "    .colab-df-convert {\n",
              "      background-color: #E8F0FE;\n",
              "      border: none;\n",
              "      border-radius: 50%;\n",
              "      cursor: pointer;\n",
              "      display: none;\n",
              "      fill: #1967D2;\n",
              "      height: 32px;\n",
              "      padding: 0 0 0 0;\n",
              "      width: 32px;\n",
              "    }\n",
              "\n",
              "    .colab-df-convert:hover {\n",
              "      background-color: #E2EBFA;\n",
              "      box-shadow: 0px 1px 2px rgba(60, 64, 67, 0.3), 0px 1px 3px 1px rgba(60, 64, 67, 0.15);\n",
              "      fill: #174EA6;\n",
              "    }\n",
              "\n",
              "    .colab-df-buttons div {\n",
              "      margin-bottom: 4px;\n",
              "    }\n",
              "\n",
              "    [theme=dark] .colab-df-convert {\n",
              "      background-color: #3B4455;\n",
              "      fill: #D2E3FC;\n",
              "    }\n",
              "\n",
              "    [theme=dark] .colab-df-convert:hover {\n",
              "      background-color: #434B5C;\n",
              "      box-shadow: 0px 1px 3px 1px rgba(0, 0, 0, 0.15);\n",
              "      filter: drop-shadow(0px 1px 2px rgba(0, 0, 0, 0.3));\n",
              "      fill: #FFFFFF;\n",
              "    }\n",
              "  </style>\n",
              "\n",
              "    <script>\n",
              "      const buttonEl =\n",
              "        document.querySelector('#df-e1cb93c9-fec9-4d8d-8459-77694bf83ee1 button.colab-df-convert');\n",
              "      buttonEl.style.display =\n",
              "        google.colab.kernel.accessAllowed ? 'block' : 'none';\n",
              "\n",
              "      async function convertToInteractive(key) {\n",
              "        const element = document.querySelector('#df-e1cb93c9-fec9-4d8d-8459-77694bf83ee1');\n",
              "        const dataTable =\n",
              "          await google.colab.kernel.invokeFunction('convertToInteractive',\n",
              "                                                    [key], {});\n",
              "        if (!dataTable) return;\n",
              "\n",
              "        const docLinkHtml = 'Like what you see? Visit the ' +\n",
              "          '<a target=\"_blank\" href=https://colab.research.google.com/notebooks/data_table.ipynb>data table notebook</a>'\n",
              "          + ' to learn more about interactive tables.';\n",
              "        element.innerHTML = '';\n",
              "        dataTable['output_type'] = 'display_data';\n",
              "        await google.colab.output.renderOutput(dataTable, element);\n",
              "        const docLink = document.createElement('div');\n",
              "        docLink.innerHTML = docLinkHtml;\n",
              "        element.appendChild(docLink);\n",
              "      }\n",
              "    </script>\n",
              "  </div>\n",
              "\n",
              "\n",
              "<div id=\"df-201ca15f-f894-4391-9cd8-77b7d234a624\">\n",
              "  <button class=\"colab-df-quickchart\" onclick=\"quickchart('df-201ca15f-f894-4391-9cd8-77b7d234a624')\"\n",
              "            title=\"Suggest charts.\"\n",
              "            style=\"display:none;\">\n",
              "\n",
              "<svg xmlns=\"http://www.w3.org/2000/svg\" height=\"24px\"viewBox=\"0 0 24 24\"\n",
              "     width=\"24px\">\n",
              "    <g>\n",
              "        <path d=\"M19 3H5c-1.1 0-2 .9-2 2v14c0 1.1.9 2 2 2h14c1.1 0 2-.9 2-2V5c0-1.1-.9-2-2-2zM9 17H7v-7h2v7zm4 0h-2V7h2v10zm4 0h-2v-4h2v4z\"/>\n",
              "    </g>\n",
              "</svg>\n",
              "  </button>\n",
              "\n",
              "<style>\n",
              "  .colab-df-quickchart {\n",
              "      --bg-color: #E8F0FE;\n",
              "      --fill-color: #1967D2;\n",
              "      --hover-bg-color: #E2EBFA;\n",
              "      --hover-fill-color: #174EA6;\n",
              "      --disabled-fill-color: #AAA;\n",
              "      --disabled-bg-color: #DDD;\n",
              "  }\n",
              "\n",
              "  [theme=dark] .colab-df-quickchart {\n",
              "      --bg-color: #3B4455;\n",
              "      --fill-color: #D2E3FC;\n",
              "      --hover-bg-color: #434B5C;\n",
              "      --hover-fill-color: #FFFFFF;\n",
              "      --disabled-bg-color: #3B4455;\n",
              "      --disabled-fill-color: #666;\n",
              "  }\n",
              "\n",
              "  .colab-df-quickchart {\n",
              "    background-color: var(--bg-color);\n",
              "    border: none;\n",
              "    border-radius: 50%;\n",
              "    cursor: pointer;\n",
              "    display: none;\n",
              "    fill: var(--fill-color);\n",
              "    height: 32px;\n",
              "    padding: 0;\n",
              "    width: 32px;\n",
              "  }\n",
              "\n",
              "  .colab-df-quickchart:hover {\n",
              "    background-color: var(--hover-bg-color);\n",
              "    box-shadow: 0 1px 2px rgba(60, 64, 67, 0.3), 0 1px 3px 1px rgba(60, 64, 67, 0.15);\n",
              "    fill: var(--button-hover-fill-color);\n",
              "  }\n",
              "\n",
              "  .colab-df-quickchart-complete:disabled,\n",
              "  .colab-df-quickchart-complete:disabled:hover {\n",
              "    background-color: var(--disabled-bg-color);\n",
              "    fill: var(--disabled-fill-color);\n",
              "    box-shadow: none;\n",
              "  }\n",
              "\n",
              "  .colab-df-spinner {\n",
              "    border: 2px solid var(--fill-color);\n",
              "    border-color: transparent;\n",
              "    border-bottom-color: var(--fill-color);\n",
              "    animation:\n",
              "      spin 1s steps(1) infinite;\n",
              "  }\n",
              "\n",
              "  @keyframes spin {\n",
              "    0% {\n",
              "      border-color: transparent;\n",
              "      border-bottom-color: var(--fill-color);\n",
              "      border-left-color: var(--fill-color);\n",
              "    }\n",
              "    20% {\n",
              "      border-color: transparent;\n",
              "      border-left-color: var(--fill-color);\n",
              "      border-top-color: var(--fill-color);\n",
              "    }\n",
              "    30% {\n",
              "      border-color: transparent;\n",
              "      border-left-color: var(--fill-color);\n",
              "      border-top-color: var(--fill-color);\n",
              "      border-right-color: var(--fill-color);\n",
              "    }\n",
              "    40% {\n",
              "      border-color: transparent;\n",
              "      border-right-color: var(--fill-color);\n",
              "      border-top-color: var(--fill-color);\n",
              "    }\n",
              "    60% {\n",
              "      border-color: transparent;\n",
              "      border-right-color: var(--fill-color);\n",
              "    }\n",
              "    80% {\n",
              "      border-color: transparent;\n",
              "      border-right-color: var(--fill-color);\n",
              "      border-bottom-color: var(--fill-color);\n",
              "    }\n",
              "    90% {\n",
              "      border-color: transparent;\n",
              "      border-bottom-color: var(--fill-color);\n",
              "    }\n",
              "  }\n",
              "</style>\n",
              "\n",
              "  <script>\n",
              "    async function quickchart(key) {\n",
              "      const quickchartButtonEl =\n",
              "        document.querySelector('#' + key + ' button');\n",
              "      quickchartButtonEl.disabled = true;  // To prevent multiple clicks.\n",
              "      quickchartButtonEl.classList.add('colab-df-spinner');\n",
              "      try {\n",
              "        const charts = await google.colab.kernel.invokeFunction(\n",
              "            'suggestCharts', [key], {});\n",
              "      } catch (error) {\n",
              "        console.error('Error during call to suggestCharts:', error);\n",
              "      }\n",
              "      quickchartButtonEl.classList.remove('colab-df-spinner');\n",
              "      quickchartButtonEl.classList.add('colab-df-quickchart-complete');\n",
              "    }\n",
              "    (() => {\n",
              "      let quickchartButtonEl =\n",
              "        document.querySelector('#df-201ca15f-f894-4391-9cd8-77b7d234a624 button');\n",
              "      quickchartButtonEl.style.display =\n",
              "        google.colab.kernel.accessAllowed ? 'block' : 'none';\n",
              "    })();\n",
              "  </script>\n",
              "</div>\n",
              "    </div>\n",
              "  </div>\n"
            ]
          },
          "metadata": {},
          "execution_count": 3
        }
      ]
    },
    {
      "cell_type": "code",
      "source": [
        "dataFrame.shape"
      ],
      "metadata": {
        "colab": {
          "base_uri": "https://localhost:8080/"
        },
        "id": "JrPH48lO21v0",
        "outputId": "df138874-1684-4e6b-9d3d-14bb45c9b1c4"
      },
      "execution_count": null,
      "outputs": [
        {
          "output_type": "execute_result",
          "data": {
            "text/plain": [
              "(1599, 12)"
            ]
          },
          "metadata": {},
          "execution_count": 6
        }
      ]
    },
    {
      "cell_type": "code",
      "source": [
        "sbn.distplot(dataFrame[\"alcohol\"])"
      ],
      "metadata": {
        "colab": {
          "base_uri": "https://localhost:8080/",
          "height": 657
        },
        "id": "ZuaB5n6t2dnG",
        "outputId": "15a3298e-db6e-4cec-da8c-627bddc4d903"
      },
      "execution_count": null,
      "outputs": [
        {
          "output_type": "stream",
          "name": "stderr",
          "text": [
            "<ipython-input-7-cd48ea345008>:1: UserWarning: \n",
            "\n",
            "`distplot` is a deprecated function and will be removed in seaborn v0.14.0.\n",
            "\n",
            "Please adapt your code to use either `displot` (a figure-level function with\n",
            "similar flexibility) or `histplot` (an axes-level function for histograms).\n",
            "\n",
            "For a guide to updating your code to use the new functions, please see\n",
            "https://gist.github.com/mwaskom/de44147ed2974457ad6372750bbe5751\n",
            "\n",
            "  sbn.distplot(dataFrame[\"alcohol\"])\n"
          ]
        },
        {
          "output_type": "execute_result",
          "data": {
            "text/plain": [
              "<Axes: xlabel='alcohol', ylabel='Density'>"
            ]
          },
          "metadata": {},
          "execution_count": 7
        },
        {
          "output_type": "display_data",
          "data": {
            "text/plain": [
              "<Figure size 640x480 with 1 Axes>"
            ],
            "image/png": "[encoded data removed]"
          },
          "metadata": {}
        }
      ]
    },
    {
      "cell_type": "code",
      "source": [
        "dataFrame.isnull().sum()"
      ],
      "metadata": {
        "colab": {
          "base_uri": "https://localhost:8080/"
        },
        "id": "uT8VZJyA2dph",
        "outputId": "39b209bf-c317-4fcf-ffba-5d4c9f771a12"
      },
      "execution_count": null,
      "outputs": [
        {
          "output_type": "execute_result",
          "data": {
            "text/plain": [
              "fixed acidity           0\n",
              "volatile acidity        0\n",
              "citric acid             0\n",
              "residual sugar          0\n",
              "chlorides               0\n",
              "free sulfur dioxide     0\n",
              "total sulfur dioxide    0\n",
              "density                 0\n",
              "pH                      0\n",
              "sulphates               0\n",
              "alcohol                 0\n",
              "quality                 0\n",
              "dtype: int64"
            ]
          },
          "metadata": {},
          "execution_count": 8
        }
      ]
    },
    {
      "cell_type": "code",
      "source": [
        "y = dataFrame[\"alcohol\"]\n",
        "x = dataFrame.drop(\"alcohol\",axis=1)"
      ],
      "metadata": {
        "id": "Cv6QsOJr2drz"
      },
      "execution_count": null,
      "outputs": []
    },
    {
      "cell_type": "code",
      "source": [
        "from sklearn.model_selection import train_test_split"
      ],
      "metadata": {
        "id": "EAk1Z4t72duF"
      },
      "execution_count": null,
      "outputs": []
    },
    {
      "cell_type": "code",
      "source": [
        "x_train,x_test,y_train,y_test = train_test_split(x,y,test_size=0.25,random_state=15)"
      ],
      "metadata": {
        "id": "Q-KCAB1i2dwJ"
      },
      "execution_count": null,
      "outputs": []
    },
    {
      "cell_type": "code",
      "source": [
        "from sklearn.preprocessing import MinMaxScaler"
      ],
      "metadata": {
        "id": "eQqjxA2I2dy9"
      },
      "execution_count": null,
      "outputs": []
    },
    {
      "cell_type": "code",
      "source": [
        "scaler = MinMaxScaler()"
      ],
      "metadata": {
        "id": "U5bpPMlP2d1E"
      },
      "execution_count": null,
      "outputs": []
    },
    {
      "cell_type": "code",
      "source": [
        "x_train = scaler.fit_transform(x_train)\n",
        "x_test = scaler.transform(x_test)"
      ],
      "metadata": {
        "id": "CTGDEnq42d3j"
      },
      "execution_count": null,
      "outputs": []
    },
    {
      "cell_type": "code",
      "source": [
        "from tensorflow.keras.models import Sequential\n",
        "from tensorflow.keras.layers import Dense"
      ],
      "metadata": {
        "id": "Q27xJqN34CTV"
      },
      "execution_count": null,
      "outputs": []
    },
    {
      "cell_type": "code",
      "source": [
        "model = Sequential()\n",
        "\n",
        "model.add(Dense(20,activation=\"relu\"))\n",
        "model.add(Dense(20,activation=\"relu\"))\n",
        "model.add(Dense(20,activation=\"relu\"))\n",
        "model.add(Dense(20,activation=\"relu\"))\n",
        "model.add(Dense(20,activation=\"relu\"))\n",
        "\n",
        "model.add(Dense(1))\n",
        "\n",
        "model.compile(optimizer=\"adam\",loss=\"mse\")"
      ],
      "metadata": {
        "id": "Ttsb_liz4CVt"
      },
      "execution_count": null,
      "outputs": []
    },
    {
      "cell_type": "code",
      "source": [
        "model.fit(x=x_train,y=y_train,validation_data=(x_test,y_test),batch_size=50,epochs=150)"
      ],
      "metadata": {
        "colab": {
          "base_uri": "https://localhost:8080/"
        },
        "id": "g00neQbI4CXz",
        "outputId": "7759ec60-18ee-46af-837b-598a39628484"
      },
      "execution_count": null,
      "outputs": [
        {
          "output_type": "stream",
          "name": "stdout",
          "text": [
            "Epoch 1/150\n",
            "24/24 [==============================] - 1s 7ms/step - loss: 106.7124 - val_loss: 101.5136\n",
            "Epoch 2/150\n",
            "24/24 [==============================] - 0s 2ms/step - loss: 92.0983 - val_loss: 76.6874\n",
            "Epoch 3/150\n",
            "24/24 [==============================] - 0s 3ms/step - loss: 50.5837 - val_loss: 16.4614\n",
            "Epoch 4/150\n",
            "24/24 [==============================] - 0s 2ms/step - loss: 5.2176 - val_loss: 3.2282\n",
            "Epoch 5/150\n",
            "24/24 [==============================] - 0s 3ms/step - loss: 1.9364 - val_loss: 1.9803\n",
            "Epoch 6/150\n",
            "24/24 [==============================] - 0s 3ms/step - loss: 1.6262 - val_loss: 1.7895\n",
            "Epoch 7/150\n",
            "24/24 [==============================] - 0s 2ms/step - loss: 1.4632 - val_loss: 1.5905\n",
            "Epoch 8/150\n",
            "24/24 [==============================] - 0s 2ms/step - loss: 1.2844 - val_loss: 1.3797\n",
            "Epoch 9/150\n",
            "24/24 [==============================] - 0s 3ms/step - loss: 1.1309 - val_loss: 1.2026\n",
            "Epoch 10/150\n",
            "24/24 [==============================] - 0s 3ms/step - loss: 1.0153 - val_loss: 1.0838\n",
            "Epoch 11/150\n",
            "24/24 [==============================] - 0s 3ms/step - loss: 0.9285 - val_loss: 0.9959\n",
            "Epoch 12/150\n",
            "24/24 [==============================] - 0s 3ms/step - loss: 0.8693 - val_loss: 0.9276\n",
            "Epoch 13/150\n",
            "24/24 [==============================] - 0s 3ms/step - loss: 0.8096 - val_loss: 0.8768\n",
            "Epoch 14/150\n",
            "24/24 [==============================] - 0s 2ms/step - loss: 0.7686 - val_loss: 0.8271\n",
            "Epoch 15/150\n",
            "24/24 [==============================] - 0s 2ms/step - loss: 0.7185 - val_loss: 0.7748\n",
            "Epoch 16/150\n",
            "24/24 [==============================] - 0s 2ms/step - loss: 0.6880 - val_loss: 0.7491\n",
            "Epoch 17/150\n",
            "24/24 [==============================] - 0s 2ms/step - loss: 0.6341 - val_loss: 0.6862\n",
            "Epoch 18/150\n",
            "24/24 [==============================] - 0s 2ms/step - loss: 0.6096 - val_loss: 0.6506\n",
            "Epoch 19/150\n",
            "24/24 [==============================] - 0s 2ms/step - loss: 0.5630 - val_loss: 0.5976\n",
            "Epoch 20/150\n",
            "24/24 [==============================] - 0s 3ms/step - loss: 0.5377 - val_loss: 0.5692\n",
            "Epoch 21/150\n",
            "24/24 [==============================] - 0s 2ms/step - loss: 0.5075 - val_loss: 0.5324\n",
            "Epoch 22/150\n",
            "24/24 [==============================] - 0s 2ms/step - loss: 0.4914 - val_loss: 0.5295\n",
            "Epoch 23/150\n",
            "24/24 [==============================] - 0s 3ms/step - loss: 0.4652 - val_loss: 0.5092\n",
            "Epoch 24/150\n",
            "24/24 [==============================] - 0s 2ms/step - loss: 0.4517 - val_loss: 0.4933\n",
            "Epoch 25/150\n",
            "24/24 [==============================] - 0s 2ms/step - loss: 0.4429 - val_loss: 0.4676\n",
            "Epoch 26/150\n",
            "24/24 [==============================] - 0s 3ms/step - loss: 0.4252 - val_loss: 0.4544\n",
            "Epoch 27/150\n",
            "24/24 [==============================] - 0s 2ms/step - loss: 0.4108 - val_loss: 0.4378\n",
            "Epoch 28/150\n",
            "24/24 [==============================] - 0s 3ms/step - loss: 0.4046 - val_loss: 0.4362\n",
            "Epoch 29/150\n",
            "24/24 [==============================] - 0s 3ms/step - loss: 0.3957 - val_loss: 0.4195\n",
            "Epoch 30/150\n",
            "24/24 [==============================] - 0s 2ms/step - loss: 0.3915 - val_loss: 0.4180\n",
            "Epoch 31/150\n",
            "24/24 [==============================] - 0s 2ms/step - loss: 0.3862 - val_loss: 0.3995\n",
            "Epoch 32/150\n",
            "24/24 [==============================] - 0s 3ms/step - loss: 0.3843 - val_loss: 0.4173\n",
            "Epoch 33/150\n",
            "24/24 [==============================] - 0s 4ms/step - loss: 0.3779 - val_loss: 0.3970\n",
            "Epoch 34/150\n",
            "24/24 [==============================] - 0s 3ms/step - loss: 0.3782 - val_loss: 0.3845\n",
            "Epoch 35/150\n",
            "24/24 [==============================] - 0s 4ms/step - loss: 0.3835 - val_loss: 0.3795\n",
            "Epoch 36/150\n",
            "24/24 [==============================] - 0s 3ms/step - loss: 0.3737 - val_loss: 0.4152\n",
            "Epoch 37/150\n",
            "24/24 [==============================] - 0s 3ms/step - loss: 0.3672 - val_loss: 0.4024\n",
            "Epoch 38/150\n",
            "24/24 [==============================] - 0s 3ms/step - loss: 0.3729 - val_loss: 0.4159\n",
            "Epoch 39/150\n",
            "24/24 [==============================] - 0s 3ms/step - loss: 0.3694 - val_loss: 0.3755\n",
            "Epoch 40/150\n",
            "24/24 [==============================] - 0s 4ms/step - loss: 0.3730 - val_loss: 0.3664\n",
            "Epoch 41/150\n",
            "24/24 [==============================] - 0s 3ms/step - loss: 0.3698 - val_loss: 0.3662\n",
            "Epoch 42/150\n",
            "24/24 [==============================] - 0s 3ms/step - loss: 0.3682 - val_loss: 0.4574\n",
            "Epoch 43/150\n",
            "24/24 [==============================] - 0s 3ms/step - loss: 0.3772 - val_loss: 0.3616\n",
            "Epoch 44/150\n",
            "24/24 [==============================] - 0s 3ms/step - loss: 0.3632 - val_loss: 0.3646\n",
            "Epoch 45/150\n",
            "24/24 [==============================] - 0s 3ms/step - loss: 0.3601 - val_loss: 0.3583\n",
            "Epoch 46/150\n",
            "24/24 [==============================] - 0s 3ms/step - loss: 0.3606 - val_loss: 0.3583\n",
            "Epoch 47/150\n",
            "24/24 [==============================] - 0s 3ms/step - loss: 0.3590 - val_loss: 0.3593\n",
            "Epoch 48/150\n",
            "24/24 [==============================] - 0s 3ms/step - loss: 0.3575 - val_loss: 0.3551\n",
            "Epoch 49/150\n",
            "24/24 [==============================] - 0s 3ms/step - loss: 0.3568 - val_loss: 0.3637\n",
            "Epoch 50/150\n",
            "24/24 [==============================] - 0s 3ms/step - loss: 0.3546 - val_loss: 0.3663\n",
            "Epoch 51/150\n",
            "24/24 [==============================] - 0s 3ms/step - loss: 0.3567 - val_loss: 0.3654\n",
            "Epoch 52/150\n",
            "24/24 [==============================] - 0s 3ms/step - loss: 0.3603 - val_loss: 0.3623\n",
            "Epoch 53/150\n",
            "24/24 [==============================] - 0s 4ms/step - loss: 0.3615 - val_loss: 0.3479\n",
            "Epoch 54/150\n",
            "24/24 [==============================] - 0s 3ms/step - loss: 0.3558 - val_loss: 0.3485\n",
            "Epoch 55/150\n",
            "24/24 [==============================] - 0s 3ms/step - loss: 0.3539 - val_loss: 0.3975\n",
            "Epoch 56/150\n",
            "24/24 [==============================] - 0s 2ms/step - loss: 0.3529 - val_loss: 0.3465\n",
            "Epoch 57/150\n",
            "24/24 [==============================] - 0s 3ms/step - loss: 0.3524 - val_loss: 0.3875\n",
            "Epoch 58/150\n",
            "24/24 [==============================] - 0s 2ms/step - loss: 0.3568 - val_loss: 0.3422\n",
            "Epoch 59/150\n",
            "24/24 [==============================] - 0s 2ms/step - loss: 0.3532 - val_loss: 0.3767\n",
            "Epoch 60/150\n",
            "24/24 [==============================] - 0s 2ms/step - loss: 0.3679 - val_loss: 0.3419\n",
            "Epoch 61/150\n",
            "24/24 [==============================] - 0s 2ms/step - loss: 0.3534 - val_loss: 0.3718\n",
            "Epoch 62/150\n",
            "24/24 [==============================] - 0s 3ms/step - loss: 0.3551 - val_loss: 0.3888\n",
            "Epoch 63/150\n",
            "24/24 [==============================] - 0s 2ms/step - loss: 0.3506 - val_loss: 0.3429\n",
            "Epoch 64/150\n",
            "24/24 [==============================] - 0s 2ms/step - loss: 0.3517 - val_loss: 0.3395\n",
            "Epoch 65/150\n",
            "24/24 [==============================] - 0s 3ms/step - loss: 0.3475 - val_loss: 0.3373\n",
            "Epoch 66/150\n",
            "24/24 [==============================] - 0s 2ms/step - loss: 0.3476 - val_loss: 0.3419\n",
            "Epoch 67/150\n",
            "24/24 [==============================] - 0s 2ms/step - loss: 0.3446 - val_loss: 0.3370\n",
            "Epoch 68/150\n",
            "24/24 [==============================] - 0s 2ms/step - loss: 0.3448 - val_loss: 0.3455\n",
            "Epoch 69/150\n",
            "24/24 [==============================] - 0s 2ms/step - loss: 0.3454 - val_loss: 0.3898\n",
            "Epoch 70/150\n",
            "24/24 [==============================] - 0s 2ms/step - loss: 0.3570 - val_loss: 0.3988\n",
            "Epoch 71/150\n",
            "24/24 [==============================] - 0s 3ms/step - loss: 0.3498 - val_loss: 0.3743\n",
            "Epoch 72/150\n",
            "24/24 [==============================] - 0s 2ms/step - loss: 0.3586 - val_loss: 0.3969\n",
            "Epoch 73/150\n",
            "24/24 [==============================] - 0s 2ms/step - loss: 0.3443 - val_loss: 0.3313\n",
            "Epoch 74/150\n",
            "24/24 [==============================] - 0s 3ms/step - loss: 0.3418 - val_loss: 0.3545\n",
            "Epoch 75/150\n",
            "24/24 [==============================] - 0s 2ms/step - loss: 0.3450 - val_loss: 0.3487\n",
            "Epoch 76/150\n",
            "24/24 [==============================] - 0s 2ms/step - loss: 0.3555 - val_loss: 0.3311\n",
            "Epoch 77/150\n",
            "24/24 [==============================] - 0s 2ms/step - loss: 0.3549 - val_loss: 0.3356\n",
            "Epoch 78/150\n",
            "24/24 [==============================] - 0s 3ms/step - loss: 0.3445 - val_loss: 0.3420\n",
            "Epoch 79/150\n",
            "24/24 [==============================] - 0s 3ms/step - loss: 0.3445 - val_loss: 0.3293\n",
            "Epoch 80/150\n",
            "24/24 [==============================] - 0s 2ms/step - loss: 0.3375 - val_loss: 0.3341\n",
            "Epoch 81/150\n",
            "24/24 [==============================] - 0s 2ms/step - loss: 0.3386 - val_loss: 0.3379\n",
            "Epoch 82/150\n",
            "24/24 [==============================] - 0s 3ms/step - loss: 0.3375 - val_loss: 0.3284\n",
            "Epoch 83/150\n",
            "24/24 [==============================] - 0s 2ms/step - loss: 0.3382 - val_loss: 0.3466\n",
            "Epoch 84/150\n",
            "24/24 [==============================] - 0s 2ms/step - loss: 0.3356 - val_loss: 0.3281\n",
            "Epoch 85/150\n",
            "24/24 [==============================] - 0s 3ms/step - loss: 0.3402 - val_loss: 0.3294\n",
            "Epoch 86/150\n",
            "24/24 [==============================] - 0s 2ms/step - loss: 0.3408 - val_loss: 0.3594\n",
            "Epoch 87/150\n",
            "24/24 [==============================] - 0s 2ms/step - loss: 0.3613 - val_loss: 0.4092\n",
            "Epoch 88/150\n",
            "24/24 [==============================] - 0s 3ms/step - loss: 0.3526 - val_loss: 0.4091\n",
            "Epoch 89/150\n",
            "24/24 [==============================] - 0s 3ms/step - loss: 0.3468 - val_loss: 0.3311\n",
            "Epoch 90/150\n",
            "24/24 [==============================] - 0s 2ms/step - loss: 0.3467 - val_loss: 0.3361\n",
            "Epoch 91/150\n",
            "24/24 [==============================] - 0s 2ms/step - loss: 0.3367 - val_loss: 0.3296\n",
            "Epoch 92/150\n",
            "24/24 [==============================] - 0s 2ms/step - loss: 0.3331 - val_loss: 0.3254\n",
            "Epoch 93/150\n",
            "24/24 [==============================] - 0s 2ms/step - loss: 0.3375 - val_loss: 0.3386\n",
            "Epoch 94/150\n",
            "24/24 [==============================] - 0s 2ms/step - loss: 0.3340 - val_loss: 0.3309\n",
            "Epoch 95/150\n",
            "24/24 [==============================] - 0s 3ms/step - loss: 0.3358 - val_loss: 0.3383\n",
            "Epoch 96/150\n",
            "24/24 [==============================] - 0s 3ms/step - loss: 0.3324 - val_loss: 0.3221\n",
            "Epoch 97/150\n",
            "24/24 [==============================] - 0s 2ms/step - loss: 0.3338 - val_loss: 0.3340\n",
            "Epoch 98/150\n",
            "24/24 [==============================] - 0s 2ms/step - loss: 0.3327 - val_loss: 0.3280\n",
            "Epoch 99/150\n",
            "24/24 [==============================] - 0s 3ms/step - loss: 0.3456 - val_loss: 0.3202\n",
            "Epoch 100/150\n",
            "24/24 [==============================] - 0s 2ms/step - loss: 0.3280 - val_loss: 0.3204\n",
            "Epoch 101/150\n",
            "24/24 [==============================] - 0s 2ms/step - loss: 0.3278 - val_loss: 0.4154\n",
            "Epoch 102/150\n",
            "24/24 [==============================] - 0s 3ms/step - loss: 0.3312 - val_loss: 0.3276\n",
            "Epoch 103/150\n",
            "24/24 [==============================] - 0s 2ms/step - loss: 0.3290 - val_loss: 0.3206\n",
            "Epoch 104/150\n",
            "24/24 [==============================] - 0s 2ms/step - loss: 0.3341 - val_loss: 0.3234\n",
            "Epoch 105/150\n",
            "24/24 [==============================] - 0s 2ms/step - loss: 0.3320 - val_loss: 0.3274\n",
            "Epoch 106/150\n",
            "24/24 [==============================] - 0s 2ms/step - loss: 0.3356 - val_loss: 0.3419\n",
            "Epoch 107/150\n",
            "24/24 [==============================] - 0s 2ms/step - loss: 0.3417 - val_loss: 0.3194\n",
            "Epoch 108/150\n",
            "24/24 [==============================] - 0s 3ms/step - loss: 0.3244 - val_loss: 0.3538\n",
            "Epoch 109/150\n",
            "24/24 [==============================] - 0s 3ms/step - loss: 0.3248 - val_loss: 0.3213\n",
            "Epoch 110/150\n",
            "24/24 [==============================] - 0s 3ms/step - loss: 0.3248 - val_loss: 0.3345\n",
            "Epoch 111/150\n",
            "24/24 [==============================] - 0s 2ms/step - loss: 0.3269 - val_loss: 0.3575\n",
            "Epoch 112/150\n",
            "24/24 [==============================] - 0s 2ms/step - loss: 0.3335 - val_loss: 0.3461\n",
            "Epoch 113/150\n",
            "24/24 [==============================] - 0s 2ms/step - loss: 0.3331 - val_loss: 0.3308\n",
            "Epoch 114/150\n",
            "24/24 [==============================] - 0s 3ms/step - loss: 0.3252 - val_loss: 0.3370\n",
            "Epoch 115/150\n",
            "24/24 [==============================] - 0s 2ms/step - loss: 0.3250 - val_loss: 0.3248\n",
            "Epoch 116/150\n",
            "24/24 [==============================] - 0s 2ms/step - loss: 0.3399 - val_loss: 0.3147\n",
            "Epoch 117/150\n",
            "24/24 [==============================] - 0s 3ms/step - loss: 0.3272 - val_loss: 0.3167\n",
            "Epoch 118/150\n",
            "24/24 [==============================] - 0s 2ms/step - loss: 0.3275 - val_loss: 0.3271\n",
            "Epoch 119/150\n",
            "24/24 [==============================] - 0s 2ms/step - loss: 0.3353 - val_loss: 0.3392\n",
            "Epoch 120/150\n",
            "24/24 [==============================] - 0s 2ms/step - loss: 0.3238 - val_loss: 0.3314\n",
            "Epoch 121/150\n",
            "24/24 [==============================] - 0s 3ms/step - loss: 0.3226 - val_loss: 0.3672\n",
            "Epoch 122/150\n",
            "24/24 [==============================] - 0s 2ms/step - loss: 0.3268 - val_loss: 0.3174\n",
            "Epoch 123/150\n",
            "24/24 [==============================] - 0s 3ms/step - loss: 0.3388 - val_loss: 0.3188\n",
            "Epoch 124/150\n",
            "24/24 [==============================] - 0s 2ms/step - loss: 0.3325 - val_loss: 0.3301\n",
            "Epoch 125/150\n",
            "24/24 [==============================] - 0s 3ms/step - loss: 0.3226 - val_loss: 0.3145\n",
            "Epoch 126/150\n",
            "24/24 [==============================] - 0s 2ms/step - loss: 0.3297 - val_loss: 0.3518\n",
            "Epoch 127/150\n",
            "24/24 [==============================] - 0s 3ms/step - loss: 0.3285 - val_loss: 0.3597\n",
            "Epoch 128/150\n",
            "24/24 [==============================] - 0s 2ms/step - loss: 0.3199 - val_loss: 0.3135\n",
            "Epoch 129/150\n",
            "24/24 [==============================] - 0s 3ms/step - loss: 0.3226 - val_loss: 0.3125\n",
            "Epoch 130/150\n",
            "24/24 [==============================] - 0s 3ms/step - loss: 0.3190 - val_loss: 0.3230\n",
            "Epoch 131/150\n",
            "24/24 [==============================] - 0s 2ms/step - loss: 0.3211 - val_loss: 0.3094\n",
            "Epoch 132/150\n",
            "24/24 [==============================] - 0s 2ms/step - loss: 0.3198 - val_loss: 0.3239\n",
            "Epoch 133/150\n",
            "24/24 [==============================] - 0s 2ms/step - loss: 0.3232 - val_loss: 0.3367\n",
            "Epoch 134/150\n",
            "24/24 [==============================] - 0s 3ms/step - loss: 0.3263 - val_loss: 0.3178\n",
            "Epoch 135/150\n",
            "24/24 [==============================] - 0s 2ms/step - loss: 0.3251 - val_loss: 0.3323\n",
            "Epoch 136/150\n",
            "24/24 [==============================] - 0s 2ms/step - loss: 0.3183 - val_loss: 0.3405\n",
            "Epoch 137/150\n",
            "24/24 [==============================] - 0s 2ms/step - loss: 0.3206 - val_loss: 0.3457\n",
            "Epoch 138/150\n",
            "24/24 [==============================] - 0s 3ms/step - loss: 0.3334 - val_loss: 0.3114\n",
            "Epoch 139/150\n",
            "24/24 [==============================] - 0s 3ms/step - loss: 0.3179 - val_loss: 0.3177\n",
            "Epoch 140/150\n",
            "24/24 [==============================] - 0s 2ms/step - loss: 0.3253 - val_loss: 0.3085\n",
            "Epoch 141/150\n",
            "24/24 [==============================] - 0s 2ms/step - loss: 0.3226 - val_loss: 0.3266\n",
            "Epoch 142/150\n",
            "24/24 [==============================] - 0s 2ms/step - loss: 0.3236 - val_loss: 0.3388\n",
            "Epoch 143/150\n",
            "24/24 [==============================] - 0s 2ms/step - loss: 0.3276 - val_loss: 0.3569\n",
            "Epoch 144/150\n",
            "24/24 [==============================] - 0s 3ms/step - loss: 0.3544 - val_loss: 0.3097\n",
            "Epoch 145/150\n",
            "24/24 [==============================] - 0s 3ms/step - loss: 0.3273 - val_loss: 0.3062\n",
            "Epoch 146/150\n",
            "24/24 [==============================] - 0s 2ms/step - loss: 0.3265 - val_loss: 0.3258\n",
            "Epoch 147/150\n",
            "24/24 [==============================] - 0s 2ms/step - loss: 0.3245 - val_loss: 0.3069\n",
            "Epoch 148/150\n",
            "24/24 [==============================] - 0s 3ms/step - loss: 0.3189 - val_loss: 0.3033\n",
            "Epoch 149/150\n",
            "24/24 [==============================] - 0s 3ms/step - loss: 0.3194 - val_loss: 0.3295\n",
            "Epoch 150/150\n",
            "24/24 [==============================] - 0s 2ms/step - loss: 0.3128 - val_loss: 0.3097\n"
          ]
        },
        {
          "output_type": "execute_result",
          "data": {
            "text/plain": [
              "<keras.callbacks.History at 0x7a88dd77e140>"
            ]
          },
          "metadata": {},
          "execution_count": 18
        }
      ]
    },
    {
      "cell_type": "code",
      "source": [
        "veri = model.history.history"
      ],
      "metadata": {
        "id": "uMV9DfoH4Cad"
      },
      "execution_count": null,
      "outputs": []
    },
    {
      "cell_type": "code",
      "source": [
        "sbn.lineplot(veri)"
      ],
      "metadata": {
        "colab": {
          "base_uri": "https://localhost:8080/",
          "height": 447
        },
        "id": "4QTHwXbZ4Ccc",
        "outputId": "47faa6e3-0560-4e45-9b05-8393f71fa5fb"
      },
      "execution_count": null,
      "outputs": [
        {
          "output_type": "execute_result",
          "data": {
            "text/plain": [
              "<Axes: >"
            ]
          },
          "metadata": {},
          "execution_count": 20
        },
        {
          "output_type": "display_data",
          "data": {
            "text/plain": [
              "<Figure size 640x480 with 1 Axes>"
            ],
            "image/png": "[encoded data removed]"
          },
          "metadata": {}
        }
      ]
    },
    {
      "cell_type": "code",
      "source": [
        "from sklearn.metrics import mean_absolute_error,mean_squared_error"
      ],
      "metadata": {
        "id": "rcI_DxT-4Ce7"
      },
      "execution_count": null,
      "outputs": []
    },
    {
      "cell_type": "code",
      "source": [
        "tahminDizisi = model.predict(x_test)"
      ],
      "metadata": {
        "colab": {
          "base_uri": "https://localhost:8080/"
        },
        "id": "P3mENdJn4ChX",
        "outputId": "a8f32d99-cd5c-4338-ea10-949ff86f3bf3"
      },
      "execution_count": null,
      "outputs": [
        {
          "output_type": "stream",
          "name": "stdout",
          "text": [
            "13/13 [==============================] - 0s 1ms/step\n"
          ]
        }
      ]
    },
    {
      "cell_type": "code",
      "source": [
        "mean_absolute_error(y_test,tahminDizisi)"
      ],
      "metadata": {
        "colab": {
          "base_uri": "https://localhost:8080/"
        },
        "id": "X66iLKdR4Cjl",
        "outputId": "8a0d905e-4ddd-46cd-be90-7e5eba622690"
      },
      "execution_count": null,
      "outputs": [
        {
          "output_type": "execute_result",
          "data": {
            "text/plain": [
              "0.432463265101115"
            ]
          },
          "metadata": {},
          "execution_count": 25
        }
      ]
    },
    {
      "cell_type": "code",
      "source": [
        "mean_squared_error(y_test,tahminDizisi)"
      ],
      "metadata": {
        "colab": {
          "base_uri": "https://localhost:8080/"
        },
        "id": "MHjoWMEr4ClV",
        "outputId": "7b871e9c-cc22-4be1-b40e-d5979f1d9042"
      },
      "execution_count": null,
      "outputs": [
        {
          "output_type": "execute_result",
          "data": {
            "text/plain": [
              "0.30968649718597524"
            ]
          },
          "metadata": {},
          "execution_count": 26
        }
      ]
    },
    {
      "cell_type": "code",
      "source": [
        "plt.scatter(y_test,tahminDizisi)\n",
        "plt.plot(y_test,y_test,\"r--\")"
      ],
      "metadata": {
        "colab": {
          "base_uri": "https://localhost:8080/",
          "height": 447
        },
        "id": "QACkMn834CpG",
        "outputId": "08d3b0e3-e109-4f27-8f14-d0300cf988d4"
      },
      "execution_count": null,
      "outputs": [
        {
          "output_type": "execute_result",
          "data": {
            "text/plain": [
              "[<matplotlib.lines.Line2D at 0x7a88dfe8e830>]"
            ]
          },
          "metadata": {},
          "execution_count": 27
        },
        {
          "output_type": "display_data",
          "data": {
            "text/plain": [
              "<Figure size 640x480 with 1 Axes>"
            ],
            "image/png": "[encoded data removed]"
          },
          "metadata": {}
        }
      ]
    },
    {
      "cell_type": "code",
      "source": [
        "wine_alcohol = [[7.4,\t0.70,\t0.00,\t1.9,\t0.076,\t11.0,\t34.0,\t0.9978,\t3.51,\t0.56,\t5]]"
      ],
      "metadata": {
        "id": "5LVdloEH5Qtk"
      },
      "execution_count": null,
      "outputs": []
    },
    {
      "cell_type": "code",
      "source": [
        "wine_alcohol = scaler.transform(wine_alcohol)"
      ],
      "metadata": {
        "colab": {
          "base_uri": "https://localhost:8080/"
        },
        "id": "tB0Kflpq5Qv7",
        "outputId": "4f28d445-96b2-430a-8c27-18f23cba18a3"
      },
      "execution_count": null,
      "outputs": [
        {
          "output_type": "stream",
          "name": "stderr",
          "text": [
            "/usr/local/lib/python3.10/dist-packages/sklearn/base.py:439: UserWarning: X does not have valid feature names, but MinMaxScaler was fitted with feature names\n",
            "  warnings.warn(\n"
          ]
        }
      ]
    },
    {
      "cell_type": "code",
      "source": [
        "model.predict(wine_alcohol)"
      ],
      "metadata": {
        "colab": {
          "base_uri": "https://localhost:8080/"
        },
        "id": "buypSM445QyH",
        "outputId": "878f4ab2-b69c-4ed1-d1cc-3f041c8e5255"
      },
      "execution_count": null,
      "outputs": [
        {
          "output_type": "stream",
          "name": "stdout",
          "text": [
            "1/1 [==============================] - 0s 14ms/step\n"
          ]
        },
        {
          "output_type": "execute_result",
          "data": {
            "text/plain": [
              "array([[9.591414]], dtype=float32)"
            ]
          },
          "metadata": {},
          "execution_count": 42
        }
      ]
    },
    {
      "cell_type": "code",
      "source": [],
      "metadata": {
        "id": "Lbp0z8jV5Q2C"
      },
      "execution_count": null,
      "outputs": []
    }
  ]
}